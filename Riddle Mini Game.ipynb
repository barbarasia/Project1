{
  "cells": [
    {
      "cell_type": "code",
      "execution_count": 3,
      "metadata": {
        "trusted": true
      },
      "outputs": [],
      "source": [
        "# Existing riddles dictionary\n",
        "riddles = {\n",
        "    \"What has keys but can't open locks?\": \"Piano\",\n",
        "    \"What runs but never walks?\": \"Water\",\n",
        "    \"What has a heart that doesn't beat?\": \"Artichoke\",\n",
        "    \"What can travel around the world while staying in a corner?\": \"Stamp\",\n",
        "    \"What has a neck but no head?\": \"Bottle\",\n",
        "    \"What gets wetter as it dries?\": \"Towel\",\n",
        "    \"What has one eye but can't see?\": \"Needle\",\n",
        "    \"What can be cracked, made, told, and played?\": \"Joke\",\n",
        "    \"What is always in front of you but can't be seen?\": \"Future\",\n",
        "    \"What goes up but never comes down?\": \"Age\",\n",
        "    \"What has a thumb and four fingers but is not alive?\": \"Glove\",\n",
        "    \"What is so fragile that saying its name breaks it?\": \"Silence\",\n",
        "    \"What comes once in a minute, twice in a moment, but never in a thousand years?\": \"M\",\n",
        "    \"What has an end but no beginning, a home but no family, and a space without room?\": \"Keyboard\",\n",
        "    \"What can you hold in your right hand but not in your left?\": \"Left hand\",\n",
        "    \"What is full of holes but still holds water?\": \"Sponge\",\n",
        "    \"What is light as a feather, yet the strongest man can't hold it for more than 5 minutes?\": \"Breath\",\n",
        "    \"What begins with T, ends with T, and has T in it?\": \"Teapot\",\n",
        "    \"What has cities, but no houses; forests, but no trees; and rivers, but no water?\": \"Map\",\n",
        "    \"What has hands but can't clap?\": \"Clock\",\n",
        "    \"What comes down but never goes up?\": \"Rain\",\n",
        "    \"What can be caught but never thrown?\": \"Cold\",\n",
        "    \"What has a head, a tail, is brown, and has no legs?\": \"Penny\"\n",
        "}\n"
      ]
    },
    {
      "cell_type": "markdown",
      "metadata": {},
      "source": []
    },
    {
      "cell_type": "code",
      "execution_count": 4,
      "metadata": {
        "trusted": true
      },
      "outputs": [
        {
          "data": {
            "text/plain": [
              "'test print(item_riddle)'"
            ]
          },
          "execution_count": 4,
          "metadata": {},
          "output_type": "execute_result"
        }
      ],
      "source": [
        "itemlist= (\"tv set\",\"yoga ball\",\"desk\",\"painting\",\"sofa\",\"toilet seat\", \"table two\")\n",
        "item_riddle = { item: riddle for item,riddle in zip(itemlist,riddles)}\n",
        "\"\"\"test print(item_riddle)\"\"\""
      ]
    },
    {
      "cell_type": "code",
      "execution_count": 5,
      "metadata": {
        "trusted": true
      },
      "outputs": [],
      "source": [
        "# Function to retrieve the riddle for a given item\n",
        "def get_riddle_for_item(item):\n",
        "    return item_riddle.get(item, None)"
      ]
    },
    {
      "cell_type": "code",
      "execution_count": 6,
      "metadata": {},
      "outputs": [],
      "source": [
        "# Function to check the player's answer\n",
        "def check_answer(item, player_answer):\n",
        "    riddle = get_riddle_for_item(item)\n",
        "    correct_answer = riddles.get(riddle, None)\n",
        "    return player_answer.strip().lower() == correct_answer.strip().lower()"
      ]
    },
    {
      "cell_type": "code",
      "execution_count": 7,
      "metadata": {},
      "outputs": [],
      "source": [
        "# Function to play the riddle game\n",
        "def play_riddle_game():\n",
        "    keys_collected = 0\n",
        "    fail_count = 0\n",
        "\n",
        "    for item in itemlist:\n",
        "        while True:\n",
        "            riddle = get_riddle_for_item(item)\n",
        "            if riddle is None:\n",
        "                print(f\"No riddle associated with {item}.\")\n",
        "                break\n",
        "\n",
        "            print(f\"Riddle for {item}: {riddle}\")\n",
        "            player_answer = input(\"Your answer: \")\n",
        "\n",
        "            if check_answer(item, player_answer):\n",
        "                print(\"Correct! You've received a key.\")\n",
        "                keys_collected += 1\n",
        "                break\n",
        "            else:\n",
        "                print(\"Incorrect answer. Try again.\")\n",
        "                fail_count += 1\n",
        "\n",
        "    print(f\"\\nGame Over! You collected {keys_collected} keys.\")\n",
        "    print(f\"Total incorrect attempts: {fail_count}\")"
      ]
    },
    {
      "cell_type": "code",
      "execution_count": 8,
      "metadata": {},
      "outputs": [
        {
          "name": "stdout",
          "output_type": "stream",
          "text": [
            "Riddle for tv set: What has keys but can't open locks?\n",
            "Correct! You've received a key.\n",
            "Riddle for yoga ball: What runs but never walks?\n",
            "Correct! You've received a key.\n",
            "Riddle for desk: What has a heart that doesn't beat?\n",
            "Correct! You've received a key.\n",
            "Riddle for painting: What can travel around the world while staying in a corner?\n",
            "Correct! You've received a key.\n",
            "Riddle for sofa: What has a neck but no head?\n",
            "Correct! You've received a key.\n",
            "Riddle for toilet seat: What gets wetter as it dries?\n",
            "Correct! You've received a key.\n",
            "Riddle for table two: What has one eye but can't see?\n",
            "Correct! You've received a key.\n",
            "\n",
            "Game Over! You collected 7 keys.\n",
            "Total incorrect attempts: 0\n"
          ]
        }
      ],
      "source": [
        "play_riddle_game()\n"
      ]
    }
  ],
  "metadata": {
    "kernelspec": {
      "display_name": "base",
      "language": "python",
      "name": "python3"
    },
    "language_info": {
      "codemirror_mode": {
        "name": "ipython",
        "version": 3
      },
      "file_extension": ".py",
      "mimetype": "text/x-python",
      "name": "python",
      "nbconvert_exporter": "python",
      "pygments_lexer": "ipython3",
      "version": "3.11.7"
    }
  },
  "nbformat": 4,
  "nbformat_minor": 4
}
